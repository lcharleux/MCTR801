{
 "cells": [
  {
   "cell_type": "markdown",
   "metadata": {},
   "source": [
    "# Conway's Game of Life \n",
    "\n",
    "![](https://upload.wikimedia.org/wikipedia/commons/e/e5/Gospers_glider_gun.gif)\n",
    "\n",
    "\n",
    "\n",
    "## Part 1: Introduction\n",
    "\n",
    "### What's the game of life?\n",
    "The game of life (**GoL**)is not a game per se. \n",
    "It is one of the first cellular automata. \n",
    "It can be visualized as a chessboard of arbitrary size in which each **cell** can exist in two states (dead=0 or alive=1). \n",
    "The game has an evolution rule that makes the state of its **cell** change with each time step.\n",
    "This rule is purely deterministic (which implies that there is no randomness in this game) and is based on the number of living [Moore neighbors](https://en.wikipedia.org/wiki/Moore_neighborhood) of each square. \n",
    "\n",
    "This rule can be written as follows:\n",
    "* Birth (**B**): if a dead cell has 3 neighbors, it becomes alive 1. It remains dead 0 otherwise.\n",
    "* Survival (**S**): If a living cell has 2 or 3 neighbors of Moore, it survives thus remains 1, it dies and becomes 0 otherwise. \n",
    "\n",
    "The rule of the game of life can be generalized as **B3/S23**. You can visualize the game graphically on the following simulator: https://bitstorm.org/gameoflife/\n",
    "\n",
    "### Further readings\n",
    "* [Game of Life on Wikipedia](https://en.wikipedia.org/wiki/Conway%27s_Game_of_Life)\n",
    "* [Game of life on Stanford Univ.](http://web.stanford.edu/~cdebs/GameOfLife/#history)\n",
    "\n",
    "\n",
    "\n",
    "## Part 2: Counting living Moore neighbors\n",
    "\n",
    "![](https://upload.wikimedia.org/wikipedia/commons/4/4d/Moore_neighborhood_with_cardinal_directions.svg)\n",
    "\n",
    "Our goal is to animate the game of life at a sufficient speed. Typically, a 200x200 grid should be able to be run in real time, i.e. 25 frames per second. \n",
    "The speed of your code execution must therefore be sufficient. \n",
    "Try counting Moore's living neighbors on a small grid at first before moving to a larger one.\n"
   ]
  },
  {
   "cell_type": "code",
   "execution_count": 1,
   "metadata": {
    "tags": [
     "hide-input"
    ]
   },
   "outputs": [],
   "source": [
    "%matplotlib widget\n",
    "import numpy as np\n",
    "import pandas as pd\n",
    "import matplotlib.pyplot as plt\n",
    "from matplotlib import animation, rc, cm\n",
    "\n",
    "rc(\"animation\", html=\"html5\")"
   ]
  },
  {
   "cell_type": "markdown",
   "metadata": {},
   "source": [
    "We can easily create a random binary matrix usin **numpy**"
   ]
  },
  {
   "cell_type": "code",
   "execution_count": 2,
   "metadata": {
    "tags": []
   },
   "outputs": [
    {
     "data": {
      "text/plain": [
       "array([[0, 1, 1, 1, 0, 1, 0],\n",
       "       [1, 0, 1, 0, 1, 1, 0],\n",
       "       [0, 1, 1, 1, 0, 0, 0],\n",
       "       [0, 0, 0, 1, 1, 0, 0],\n",
       "       [1, 0, 0, 1, 0, 0, 0]])"
      ]
     },
     "execution_count": 2,
     "metadata": {},
     "output_type": "execute_result"
    }
   ],
   "source": [
    "cells = np.random.randint(2, size=(5, 7))\n",
    "cells"
   ]
  },
  {
   "cell_type": "code",
   "execution_count": 3,
   "metadata": {
    "tags": []
   },
   "outputs": [
    {
     "data": {
      "application/vnd.jupyter.widget-view+json": {
       "model_id": "68d9a2c59606460d89cd99b6b5190ed2",
       "version_major": 2,
       "version_minor": 0
      },
      "image/png": "[encoded data removed]",
      "text/html": [
       "\n",
       "            <div style=\"display: inline-block;\">\n",
       "                <div class=\"jupyter-widgets widget-label\" style=\"text-align: center;\">\n",
       "                    Figure\n",
       "                </div>\n",
       "                <img src='data:image/png;base64,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' width=640.0/>\n",
       "            </div>\n",
       "        "
      ],
      "text/plain": [
       "Canvas(toolbar=Toolbar(toolitems=[('Home', 'Reset original view', 'home', 'home'), ('Back', 'Back to previous …"
      ]
     },
     "metadata": {},
     "output_type": "display_data"
    }
   ],
   "source": [
    "plt.figure()\n",
    "plt.imshow(cells, cmap=cm.gray)\n",
    "plt.colorbar()\n",
    "plt.show()"
   ]
  },
  {
   "cell_type": "markdown",
   "metadata": {},
   "source": [
    "Now, you need to find a way to calculate the number of living (1) neighbors around every cell. \n",
    "\n",
    "Tips:\n",
    "* Try several methods and determine which one is the best for you,\n",
    "* The use **numpy**'s [slicing and striding methods](https://numpy.org/doc/stable/user/basics.indexing.html) can help,\n",
    "* Alternatively, numba can be an interesting solution in terms of performance, see [5 min to Numba](https://numba.pydata.org/numba-doc/dev/user/5minguide.html).\n",
    "* Boundary conditions are importants.\n",
    "\n",
    "Neighbors counts can be stored in a matrix like the following one:"
   ]
  },
  {
   "cell_type": "code",
   "execution_count": 4,
   "metadata": {
    "tags": []
   },
   "outputs": [
    {
     "data": {
      "text/plain": [
       "array([[0, 0, 0, 0, 0, 0, 0],\n",
       "       [0, 0, 0, 0, 0, 0, 0],\n",
       "       [0, 0, 0, 0, 0, 0, 0],\n",
       "       [0, 0, 0, 0, 0, 0, 0],\n",
       "       [0, 0, 0, 0, 0, 0, 0]])"
      ]
     },
     "execution_count": 4,
     "metadata": {},
     "output_type": "execute_result"
    }
   ],
   "source": [
    "neighbors = np.zeros_like(cells)\n",
    "neighbors"
   ]
  },
  {
   "cell_type": "code",
   "execution_count": 5,
   "metadata": {
    "tags": []
   },
   "outputs": [
    {
     "data": {
      "text/plain": [
       "(5, 7)"
      ]
     },
     "execution_count": 5,
     "metadata": {},
     "output_type": "execute_result"
    }
   ],
   "source": [
    "nr, nc = cells.shape\n",
    "nr, nc"
   ]
  },
  {
   "cell_type": "code",
   "execution_count": 6,
   "metadata": {
    "tags": []
   },
   "outputs": [
    {
     "data": {
      "text/plain": [
       "array([[0, 1, 1, 1, 0, 1, 0],\n",
       "       [1, 0, 1, 0, 1, 1, 0],\n",
       "       [0, 1, 1, 1, 0, 0, 0],\n",
       "       [0, 0, 0, 1, 1, 0, 0],\n",
       "       [1, 0, 0, 1, 0, 0, 0]])"
      ]
     },
     "execution_count": 6,
     "metadata": {},
     "output_type": "execute_result"
    }
   ],
   "source": [
    "cells"
   ]
  },
  {
   "cell_type": "code",
   "execution_count": 7,
   "metadata": {
    "tags": []
   },
   "outputs": [
    {
     "data": {
      "text/plain": [
       "array([[2, 3, 3, 3, 4, 2, 2],\n",
       "       [2, 6, 6, 6, 4, 2, 2],\n",
       "       [2, 3, 4, 5, 5, 3, 1],\n",
       "       [2, 3, 5, 4, 3, 1, 0],\n",
       "       [0, 1, 2, 2, 3, 1, 0]])"
      ]
     },
     "execution_count": 7,
     "metadata": {},
     "output_type": "execute_result"
    }
   ],
   "source": [
    "from numba import njit\n",
    "\n",
    "\n",
    "@njit  # NJIT DECORATOR: MAKES FUNCTIONS FASTER USING JUST-in-TIME COMPILATION\n",
    "def calculate_neighbors(cells):\n",
    "    neighbors = np.zeros_like(cells)\n",
    "    nr, nc = cells.shape\n",
    "    for r in range(nr):  # ROW LOOP\n",
    "        for c in range(nc):  # COLUMNS LOOP\n",
    "            neigh = -cells[r, c]  # NUMBER OF NEIGHBORS\n",
    "            for ro in range(-1, 2):  # NEIGHBORS ON THE ROWS\n",
    "                for co in range(-1, 2):  # NEIGHBORS ON THE COLUMBNS\n",
    "                    rr = r + ro\n",
    "                    cc = c + co\n",
    "                    if (rr >= 0) and (rr < nr) and (cc >= 0) and (cc < nc):\n",
    "                        neigh += cells[rr, cc]\n",
    "            neighbors[r, c] = neigh\n",
    "    return neighbors\n",
    "\n",
    "\n",
    "neighbors = calculate_neighbors(cells)\n",
    "neighbors"
   ]
  },
  {
   "cell_type": "code",
   "execution_count": 11,
   "metadata": {
    "tags": []
   },
   "outputs": [
    {
     "data": {
      "text/plain": [
       "array([[1, 3, 4, ..., 2, 2, 1],\n",
       "       [2, 2, 3, ..., 3, 4, 3],\n",
       "       [3, 4, 4, ..., 6, 6, 3],\n",
       "       ...,\n",
       "       [3, 7, 5, ..., 5, 4, 3],\n",
       "       [3, 4, 2, ..., 4, 4, 3],\n",
       "       [1, 3, 2, ..., 1, 1, 1]])"
      ]
     },
     "execution_count": 11,
     "metadata": {},
     "output_type": "execute_result"
    }
   ],
   "source": [
    "big_cells = np.random.randint(2, size=(200, 200))\n",
    "#%timeit big_neighbors = calculate_neighbors(big_cells)\n",
    "big_neighbors = calculate_neighbors(big_cells)\n",
    "big_neighbors"
   ]
  },
  {
   "cell_type": "markdown",
   "metadata": {},
   "source": [
    "## Apply the rule\n",
    " GoL rule:\n",
    " * SURVIVAL: a cell is alive and has 2 or 3 living neighbors: stay alive, die otherwise\n",
    " * BIRTH: a cell is dead and has 3 living neighbors: birth, stay dead otherwise"
   ]
  },
  {
   "cell_type": "code",
   "execution_count": 12,
   "metadata": {
    "tags": []
   },
   "outputs": [
    {
     "data": {
      "text/plain": [
       "array([[0, 1, 1, 1, 0, 1, 0],\n",
       "       [1, 0, 1, 0, 1, 1, 0],\n",
       "       [0, 1, 1, 1, 0, 0, 0],\n",
       "       [0, 0, 0, 1, 1, 0, 0],\n",
       "       [1, 0, 0, 1, 0, 0, 0]])"
      ]
     },
     "execution_count": 12,
     "metadata": {},
     "output_type": "execute_result"
    }
   ],
   "source": [
    "cells"
   ]
  },
  {
   "cell_type": "code",
   "execution_count": 13,
   "metadata": {
    "tags": []
   },
   "outputs": [
    {
     "data": {
      "text/plain": [
       "array([[2, 3, 3, 3, 4, 2, 2],\n",
       "       [2, 6, 6, 6, 4, 2, 2],\n",
       "       [2, 3, 4, 5, 5, 3, 1],\n",
       "       [2, 3, 5, 4, 3, 1, 0],\n",
       "       [0, 1, 2, 2, 3, 1, 0]])"
      ]
     },
     "execution_count": 13,
     "metadata": {},
     "output_type": "execute_result"
    }
   ],
   "source": [
    "S = [2, 3]  # SURVIVAL\n",
    "B = [3]  # BIRTH\n",
    "neighbors = calculate_neighbors(cells)\n",
    "neighbors"
   ]
  },
  {
   "cell_type": "code",
   "execution_count": 18,
   "metadata": {
    "tags": []
   },
   "outputs": [
    {
     "data": {
      "text/plain": [
       "array([[0, 1, 1, 0, 1, 0, 0],\n",
       "       [1, 0, 0, 0, 0, 1, 1],\n",
       "       [1, 1, 0, 0, 1, 1, 0],\n",
       "       [0, 0, 1, 1, 1, 1, 0],\n",
       "       [0, 0, 0, 1, 1, 0, 0]])"
      ]
     },
     "execution_count": 18,
     "metadata": {},
     "output_type": "execute_result"
    }
   ],
   "source": [
    "def apply_rule(cells, S, B):\n",
    "    neighbors = calculate_neighbors(cells)\n",
    "    new_cells = (\n",
    "        (cells == 1) & np.isin(neighbors, S)  # SURVIVAL\n",
    "        | (cells == 0) & np.isin(neighbors, B)\n",
    "    ) * 1  # BIRTH\n",
    "    return new_cells\n",
    "\n",
    "\n",
    "cells = apply_rule(cells, S, B)\n",
    "cells"
   ]
  },
  {
   "cell_type": "markdown",
   "metadata": {},
   "source": [
    "## Part 2: Creating a class \n",
    "\n",
    "In what follows, we propose to model the game of life by a class of which the method of calculation of the neighbors that you have just written would be a method. \n",
    "Here is a basic code snippet that you can use as inspiration to move forward."
   ]
  },
  {
   "cell_type": "code",
   "execution_count": 37,
   "metadata": {
    "tags": []
   },
   "outputs": [
    {
     "data": {
      "text/plain": [
       "array([[0, 1, 1, 0, 1, 0, 0],\n",
       "       [1, 0, 0, 0, 0, 1, 1],\n",
       "       [1, 1, 0, 0, 1, 1, 0],\n",
       "       [0, 0, 1, 1, 1, 1, 0],\n",
       "       [0, 0, 0, 1, 1, 0, 0]])"
      ]
     },
     "execution_count": 37,
     "metadata": {},
     "output_type": "execute_result"
    }
   ],
   "source": [
    "class GoL:\n",
    "    \"\"\"\n",
    "    A game of life class.\n",
    "    \"\"\"\n",
    "\n",
    "    def __init__(self, cells, B = [3], S = [2,3]):\n",
    "        self.cells = np.array(cells)\n",
    "        self.B = np.array(B)\n",
    "        self.S = np.array(S)\n",
    "\n",
    "    def __repr__(self):\n",
    "        return \"<GoL with {0} cells>\".format(self.cells.size)\n",
    "\n",
    "    def count_living_neighbors(self):\n",
    "        \"\"\"\n",
    "        Counts the number of living neighbors of each cell.\n",
    "        \"\"\"\n",
    "        cells = self.cells\n",
    "        neighbors = calculate_neighbors(cells)\n",
    "        return neighbors\n",
    "\n",
    "    def play(self):\n",
    "        \"\"\"\n",
    "        make an evolution step forward.\n",
    "        \"\"\"\n",
    "        cells = self.cells\n",
    "        B = self.B\n",
    "        S = self.S\n",
    "        new_cells = apply_rule(cells, S, B)\n",
    "        self.cells = new_cells\n",
    "\n",
    "\n",
    "g = GoL(cells)\n",
    "g.cells"
   ]
  },
  {
   "cell_type": "code",
   "execution_count": 40,
   "metadata": {},
   "outputs": [
    {
     "data": {
      "text/plain": [
       "array([[0, 1, 1, 0, 0, 0, 0],\n",
       "       [1, 0, 1, 0, 0, 0, 0],\n",
       "       [1, 1, 0, 0, 0, 0, 0],\n",
       "       [1, 0, 1, 0, 0, 0, 0],\n",
       "       [0, 1, 1, 0, 0, 0, 0]])"
      ]
     },
     "execution_count": 40,
     "metadata": {},
     "output_type": "execute_result"
    }
   ],
   "source": [
    "g.play()\n",
    "g.cells"
   ]
  },
  {
   "cell_type": "markdown",
   "metadata": {},
   "source": [
    "## Part 3: Animate your Game of Life !\n",
    "\n",
    "In the following example, we provide you with a class which is not related to the game of life but which consists of similar methods. It shows how to make an animation. Use it as an inspiration to animate your game of life."
   ]
  },
  {
   "cell_type": "code",
   "execution_count": 51,
   "metadata": {
    "tags": []
   },
   "outputs": [
    {
     "data": {
      "application/vnd.jupyter.widget-view+json": {
       "model_id": "4918bd2de2d34ee8aa6fbb2a22397a3a",
       "version_major": 2,
       "version_minor": 0
      },
      "image/png": "[encoded data removed]",
      "text/html": [
       "\n",
       "            <div style=\"display: inline-block;\">\n",
       "                <div class=\"jupyter-widgets widget-label\" style=\"text-align: center;\">\n",
       "                    Figure\n",
       "                </div>\n",
       "                <img src='data:image/png;base64,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' width=640.0/>\n",
       "            </div>\n",
       "        "
      ],
      "text/plain": [
       "Canvas(toolbar=Toolbar(toolitems=[('Home', 'Reset original view', 'home', 'home'), ('Back', 'Back to previous …"
      ]
     },
     "metadata": {},
     "output_type": "display_data"
    }
   ],
   "source": [
    "cells = np.random.randint(2, size=(100,100))\n",
    "S = [1]\n",
    "B = [1,2,3]\n",
    "g = GoL(cells, S=S, B=B)\n",
    "\n",
    "\n",
    "def updatefig(*args):\n",
    "    g.play()\n",
    "    im.set_array(g.cells)\n",
    "    return (im,)\n",
    "\n",
    "\n",
    "fig, ax = plt.subplots()\n",
    "ax.axis(\"off\")\n",
    "im = plt.imshow(ri.image, interpolation=\"nearest\", cmap=cm.jet, animated=True)\n",
    "anim = animation.FuncAnimation(fig, updatefig, frames=40, interval=50, blit=True)\n",
    "plt.show()\n",
    "#plt.close()\n",
    "#anim"
   ]
  },
  {
   "cell_type": "markdown",
   "metadata": {},
   "source": [
    "### Part 4: Other rules\n",
    "\n",
    "The game of life can be generalized and [other rules](https://en.wikipedia.org/wiki/Life-like_cellular_automaton) give surprising and interesting results from a mathematical point of view. Some of them include simple structures capable of cloning themselves, which reminds us of DNA in chemistry. \n",
    "\n",
    "Modify your work in order to be able to simulate other rules easily."
   ]
  },
  {
   "cell_type": "code",
   "execution_count": null,
   "metadata": {},
   "outputs": [],
   "source": []
  },
  {
   "cell_type": "code",
   "execution_count": 17,
   "metadata": {},
   "outputs": [
    {
     "data": {
      "text/plain": [
       "25"
      ]
     },
     "execution_count": 17,
     "metadata": {},
     "output_type": "execute_result"
    }
   ],
   "source": [
    "def f(x):\n",
    "    y = x**2\n",
    "    return y\n",
    "\n",
    "\n",
    "y = f(5)\n",
    "y"
   ]
  },
  {
   "cell_type": "code",
   "execution_count": null,
   "metadata": {
    "tags": []
   },
   "outputs": [],
   "source": [
    "type(y)"
   ]
  },
  {
   "cell_type": "code",
   "execution_count": null,
   "metadata": {
    "tags": []
   },
   "outputs": [],
   "source": [
    "y == None"
   ]
  },
  {
   "cell_type": "code",
   "execution_count": 19,
   "metadata": {},
   "outputs": [
    {
     "data": {
      "text/plain": [
       "' fff\\nffff\\n'"
      ]
     },
     "execution_count": 19,
     "metadata": {},
     "output_type": "execute_result"
    }
   ],
   "source": [
    "s = \"\"\" fff\n",
    "ffff\n",
    "\"\"\"\n",
    "s"
   ]
  },
  {
   "cell_type": "code",
   "execution_count": 30,
   "metadata": {},
   "outputs": [
    {
     "data": {
      "text/plain": [
       "<__main__.Vec at 0x16a790ca0>"
      ]
     },
     "execution_count": 30,
     "metadata": {},
     "output_type": "execute_result"
    }
   ],
   "source": [
    "class Vec:\n",
    "    \"\"\"\n",
    "    A vector class.\n",
    "    \"\"\"\n",
    "    def __init__(self, x, y):\n",
    "        self.x = x\n",
    "        self.y = y\n",
    "    \n",
    "    def norm(self):\n",
    "        \"\"\"\n",
    "        Returns the norm of the vector.\n",
    "        \"\"\"\n",
    "        x = self.x\n",
    "        y = self.y\n",
    "        return np.sqrt(x**2 + y**2)\n",
    "\n",
    "v = Vec(2,3)\n",
    "v"
   ]
  },
  {
   "cell_type": "code",
   "execution_count": 31,
   "metadata": {},
   "outputs": [
    {
     "data": {
      "text/plain": [
       "2"
      ]
     },
     "execution_count": 31,
     "metadata": {},
     "output_type": "execute_result"
    }
   ],
   "source": [
    "v.x"
   ]
  },
  {
   "cell_type": "code",
   "execution_count": 34,
   "metadata": {},
   "outputs": [
    {
     "data": {
      "text/plain": [
       "3.605551275463989"
      ]
     },
     "execution_count": 34,
     "metadata": {},
     "output_type": "execute_result"
    }
   ],
   "source": [
    "v.norm()"
   ]
  },
  {
   "cell_type": "code",
   "execution_count": 29,
   "metadata": {},
   "outputs": [
    {
     "data": {
      "text/plain": [
       "33"
      ]
     },
     "execution_count": 29,
     "metadata": {},
     "output_type": "execute_result"
    }
   ],
   "source": [
    "u = Vec(33, 44)\n",
    "u.x"
   ]
  },
  {
   "cell_type": "code",
   "execution_count": null,
   "metadata": {},
   "outputs": [],
   "source": []
  }
 ],
 "metadata": {
  "celltoolbar": "Edit Metadata",
  "kernelspec": {
   "display_name": "Python 3 (ipykernel)",
   "language": "python",
   "name": "python3"
  },
  "language_info": {
   "codemirror_mode": {
    "name": "ipython",
    "version": 3
   },
   "file_extension": ".py",
   "mimetype": "text/x-python",
   "name": "python",
   "nbconvert_exporter": "python",
   "pygments_lexer": "ipython3",
   "version": "3.10.13"
  }
 },
 "nbformat": 4,
 "nbformat_minor": 4
}
